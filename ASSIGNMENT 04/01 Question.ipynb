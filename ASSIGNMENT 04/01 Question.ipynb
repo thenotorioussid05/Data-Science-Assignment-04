{
 "cells": [
  {
   "cell_type": "code",
   "execution_count": 1,
   "id": "8aba4eb8-e94f-42a5-82c0-7a00d74e70b6",
   "metadata": {},
   "outputs": [],
   "source": [
    "#Question 01. Create a python program to sort the given list of tuples based on integer value using a lambda function.\n",
    "\n",
    "# [('Sachin Tendulkar', 34357), ('Ricky Ponting', 27483), ('Jack Kallis', 25534), ('Virat Kohli', 24936)]"
   ]
  },
  {
   "cell_type": "code",
   "execution_count": 2,
   "id": "b1df3363-ff04-4eed-89e6-846dcec3caee",
   "metadata": {},
   "outputs": [
    {
     "name": "stdout",
     "output_type": "stream",
     "text": [
      "[('Virat Kohli', 24936), ('Jack Kallis', 25534), ('Ricky Ponting', 27483), ('Sachin Tendulkar', 34357)]\n"
     ]
    }
   ],
   "source": [
    "# The given list :\n",
    "Data = [('Sachin Tendulkar', 34357), ('Ricky Ponting', 27483), ('Jack Kallis', 25534), ('Virat Kohli', 24936)]\n",
    "\n",
    "# Lambda dunction to sort integer value :\n",
    "sorted_Data = sorted (Data , key=lambda x : x[1])\n",
    "print(sorted_Data)\n"
   ]
  },
  {
   "cell_type": "code",
   "execution_count": null,
   "id": "24ed05e5-6727-4549-a0ab-7b826a77225c",
   "metadata": {},
   "outputs": [],
   "source": []
  }
 ],
 "metadata": {
  "kernelspec": {
   "display_name": "Python 3 (ipykernel)",
   "language": "python",
   "name": "python3"
  },
  "language_info": {
   "codemirror_mode": {
    "name": "ipython",
    "version": 3
   },
   "file_extension": ".py",
   "mimetype": "text/x-python",
   "name": "python",
   "nbconvert_exporter": "python",
   "pygments_lexer": "ipython3",
   "version": "3.10.8"
  }
 },
 "nbformat": 4,
 "nbformat_minor": 5
}
