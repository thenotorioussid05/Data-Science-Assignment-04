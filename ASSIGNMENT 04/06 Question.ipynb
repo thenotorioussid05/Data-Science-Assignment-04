{
 "cells": [
  {
   "cell_type": "code",
   "execution_count": 1,
   "id": "ca789512-2d16-4537-a9ee-d159ba083149",
   "metadata": {},
   "outputs": [],
   "source": [
    "#Question 06. Write a python program to find palindromes in the given list of strings using lambda and filter function.\n",
    "\n",
    " # ['python', 'php', 'aba', 'radar', 'level']"
   ]
  },
  {
   "cell_type": "code",
   "execution_count": 2,
   "id": "2e7b7a1a-075b-4499-8630-f5e78b85e541",
   "metadata": {},
   "outputs": [
    {
     "data": {
      "text/plain": [
       "('php', 'aba', 'radar', 'level')"
      ]
     },
     "execution_count": 2,
     "metadata": {},
     "output_type": "execute_result"
    }
   ],
   "source": [
    "data = ['python', 'php', 'aba', 'radar', 'level']\n",
    "tuple (filter(lambda x : x == x[::-1] , data))"
   ]
  },
  {
   "cell_type": "code",
   "execution_count": null,
   "id": "73347c9d-1704-4f0f-ac60-78105f575e83",
   "metadata": {},
   "outputs": [],
   "source": []
  }
 ],
 "metadata": {
  "kernelspec": {
   "display_name": "Python 3 (ipykernel)",
   "language": "python",
   "name": "python3"
  },
  "language_info": {
   "codemirror_mode": {
    "name": "ipython",
    "version": 3
   },
   "file_extension": ".py",
   "mimetype": "text/x-python",
   "name": "python",
   "nbconvert_exporter": "python",
   "pygments_lexer": "ipython3",
   "version": "3.10.8"
  }
 },
 "nbformat": 4,
 "nbformat_minor": 5
}
